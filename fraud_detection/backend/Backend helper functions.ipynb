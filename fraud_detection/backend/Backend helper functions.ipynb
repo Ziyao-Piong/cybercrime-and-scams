{
 "cells": [
  {
   "cell_type": "code",
   "execution_count": 10,
   "id": "ab678f19",
   "metadata": {},
   "outputs": [
    {
     "name": "stdout",
     "output_type": "stream",
     "text": [
      "['https://www.myblog.com', 'http://example.wiki.org', 'hello.csadaa']\n"
     ]
    }
   ],
   "source": [
    "import re\n",
    "\n",
    "# url_regex = r\"(?i)\\b((?:https?://|www\\d{0,3}[.]|[a-z0-9.\\-]+[.][a-z]{2,4}/)(?:[^\\s()<>]+|\\(([^\\s()<>]+|(\\([^\\s()<>]+\\)))*\\))+(?:\\(([^\\s()<>]+|(\\([^\\s()<>]+\\)))*\\)|[^\\s`!()\\[\\]{};:'\\\".,<>?«»“”‘’]))\"\n",
    "\n",
    "url_regex = r\"(?i)\\b((?:https?://|www\\d{0,3}[.]|)[a-z0-9.\\-]+[.][a-z]{2,4}(?:/[^()\\s<>]*|\\([^()\\s<>]*\\))*[^()\\s`!()\\[\\]{};:'\\\".,<>?«»“”‘’]*)\"\n",
    "text = \"Visit my blog at https://www.myblog.com and my wiki at http://example.wiki.org and hello.csadaa!\" \n",
    "\n",
    "result = re.findall(url_regex, text)\n",
    "print(result)"
   ]
  },
  {
   "cell_type": "code",
   "execution_count": null,
   "id": "ca64da5e",
   "metadata": {},
   "outputs": [],
   "source": []
  }
 ],
 "metadata": {
  "kernelspec": {
   "display_name": "Python 3 (ipykernel)",
   "language": "python",
   "name": "python3"
  },
  "language_info": {
   "codemirror_mode": {
    "name": "ipython",
    "version": 3
   },
   "file_extension": ".py",
   "mimetype": "text/x-python",
   "name": "python",
   "nbconvert_exporter": "python",
   "pygments_lexer": "ipython3",
   "version": "3.11.4"
  }
 },
 "nbformat": 4,
 "nbformat_minor": 5
}
