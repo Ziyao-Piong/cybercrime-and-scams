{
 "cells": [
  {
   "cell_type": "code",
   "execution_count": 1,
   "id": "ae4da208",
   "metadata": {},
   "outputs": [],
   "source": [
    "import pandas as pd\n",
    "import numpy as np\n",
    "import matplotlib.pyplot as plt\n",
    "from sklearn.model_selection import train_test_split\n",
    "from sklearn.ensemble import RandomForestClassifier\n",
    "from sklearn.feature_extraction.text import TfidfVectorizer\n",
    "from sklearn.pipeline import Pipeline\n",
    "from sklearn.preprocessing import LabelEncoder\n",
    "import re\n",
    "from urllib.parse import urlparse\n",
    "from urllib.parse import urlparse\n",
    "from tld import get_tld"
   ]
  },
  {
   "cell_type": "code",
   "execution_count": 29,
   "id": "adf553a4",
   "metadata": {},
   "outputs": [],
   "source": [
    "type_to_int = {'benign': 0, 'defacement': 1, 'malware': 2, 'phishing': 3}\n",
    "int_to_type = {0: 'benign', 1: 'defacement', 2: 'malware', 3: 'phishing'}"
   ]
  },
  {
   "cell_type": "code",
   "execution_count": 34,
   "id": "69bc8180",
   "metadata": {},
   "outputs": [],
   "source": [
    "def having_ip_address(url):\n",
    "    match = re.search(\n",
    "        '(([01]?\\\\d\\\\d?|2[0-4]\\\\d|25[0-5])\\\\.([01]?\\\\d\\\\d?|2[0-4]\\\\d|25[0-5])\\\\.([01]?\\\\d\\\\d?|2[0-4]\\\\d|25[0-5])\\\\.'\n",
    "        '([01]?\\\\d\\\\d?|2[0-4]\\\\d|25[0-5])\\\\/)|'  # IPv4\n",
    "        '((0x[0-9a-fA-F]{1,2})\\\\.(0x[0-9a-fA-F]{1,2})\\\\.(0x[0-9a-fA-F]{1,2})\\\\.(0x[0-9a-fA-F]{1,2})\\\\/)' # IPv4 in hexadecimal\n",
    "        '(?:[a-fA-F0-9]{1,4}:){7}[a-fA-F0-9]{1,4}', url)  # Ipv6\n",
    "    return 1 if match else 0\n",
    "\n",
    "def abnormal_url(url):\n",
    "    hostname = urlparse(url).hostname\n",
    "    hostname = str(hostname)\n",
    "    match = re.search(hostname, url)\n",
    "    \n",
    "    return 1 if match else 0\n",
    "\n",
    "def no_of_dir(url):\n",
    "    urldir = urlparse(url).path\n",
    "    return urldir.count('/')\n",
    "\n",
    "def no_of_embed(url):\n",
    "    urldir = urlparse(url).path\n",
    "    return urldir.count('//')\n",
    "\n",
    "def suspicious_words(url):\n",
    "    match = re.search('PayPal|login|signin|bank|account|update|free|lucky|service|bonus|ebayisapi|webscr',\n",
    "                      url)\n",
    "    return 1 if match else 0\n",
    "\n",
    "def shortening_service(url):\n",
    "    match = re.search('bit\\.ly|goo\\.gl|shorte\\.st|go2l\\.ink|x\\.co|ow\\.ly|t\\.co|tinyurl|tr\\.im|is\\.gd|cli\\.gs|'\n",
    "                      'yfrog\\.com|migre\\.me|ff\\.im|tiny\\.cc|url4\\.eu|twit\\.ac|su\\.pr|twurl\\.nl|snipurl\\.com|'\n",
    "                      'short\\.to|BudURL\\.com|ping\\.fm|post\\.ly|Just\\.as|bkite\\.com|snipr\\.com|fic\\.kr|loopt\\.us|'\n",
    "                      'doiop\\.com|short\\.ie|kl\\.am|wp\\.me|rubyurl\\.com|om\\.ly|to\\.ly|bit\\.do|t\\.co|lnkd\\.in|'\n",
    "                      'db\\.tt|qr\\.ae|adf\\.ly|goo\\.gl|bitly\\.com|cur\\.lv|tinyurl\\.com|ow\\.ly|bit\\.ly|ity\\.im|'\n",
    "                      'q\\.gs|is\\.gd|po\\.st|bc\\.vc|twitthis\\.com|u\\.to|j\\.mp|buzurl\\.com|cutt\\.us|u\\.bb|yourls\\.org|'\n",
    "                      'x\\.co|prettylinkpro\\.com|scrnch\\.me|filoops\\.info|vzturl\\.com|qr\\.net|1url\\.com|tweez\\.me|v\\.gd|'\n",
    "                      'tr\\.im|link\\.zip\\.net',\n",
    "                      url)\n",
    "    return 1 if match else 0\n",
    "\n",
    "def count_digit(url):\n",
    "    return sum(c.isdigit() for c in url)\n",
    "\n",
    "def count_letter(url):\n",
    "    return sum(c.isalpha() for c in url)\n",
    "\n",
    "def fd_length(url):\n",
    "    urlpath= urlparse(url).path\n",
    "    try:\n",
    "        return len(urlpath.split('/')[1])\n",
    "    except:\n",
    "        return 0\n",
    "    \n",
    "def tld_length(tld):\n",
    "    try:\n",
    "        return len(tld)\n",
    "    except:\n",
    "        return -1\n",
    "    \n",
    "\n",
    "def get_features(url):\n",
    "    feature_dict = {}\n",
    "    \n",
    "    feature_dict['use_of_ip'] = [having_ip_address(url)]\n",
    "    feature_dict['abnormal_url'] = [abnormal_url(url)]\n",
    "    feature_dict['count.'] = [url.count('.')]\n",
    "    feature_dict['count-www'] = [url.count('www')]\n",
    "    feature_dict['count@'] = [url.count('@')]\n",
    "    feature_dict['count_dir'] = [no_of_dir(url)]\n",
    "    feature_dict['count_embed_domian'] = [no_of_embed(url)]\n",
    "    feature_dict['sus_words'] = [suspicious_words(url)]\n",
    "    feature_dict['short_url'] = [shortening_service(url)]\n",
    "    feature_dict['count-https'] = [url.count('https')]\n",
    "#     feature_dict['count-http'] =  [url.count('http:')]\n",
    "    feature_dict['count%'] =[url.count('%')]\n",
    "    feature_dict['count-'] = [url.count('-')]\n",
    "    feature_dict['count='] = [url.count('=')]\n",
    "    feature_dict['count-digits'] = [count_digit(url)]\n",
    "    feature_dict['count-letters'] = [count_letter(url)]\n",
    "    feature_dict['url_length'] = [len(str(url))]\n",
    "    feature_dict['hostname_length'] = [len(urlparse(url).netloc)]\n",
    "    feature_dict['fd_length'] = [fd_length(url)]\n",
    "    \n",
    "    tld = get_tld(url, fail_silently=True)\n",
    "    feature_dict['tld_length'] = [tld_length(tld)]\n",
    "\n",
    "    return feature_dict"
   ]
  },
  {
   "cell_type": "code",
   "execution_count": 35,
   "id": "54244eca",
   "metadata": {},
   "outputs": [],
   "source": [
    "features = get_features('https://www.google.com')\n",
    "\n",
    "df = pd.DataFrame(features)"
   ]
  },
  {
   "cell_type": "code",
   "execution_count": 36,
   "id": "aff145ea",
   "metadata": {},
   "outputs": [
    {
     "data": {
      "text/html": [
       "<div>\n",
       "<style scoped>\n",
       "    .dataframe tbody tr th:only-of-type {\n",
       "        vertical-align: middle;\n",
       "    }\n",
       "\n",
       "    .dataframe tbody tr th {\n",
       "        vertical-align: top;\n",
       "    }\n",
       "\n",
       "    .dataframe thead th {\n",
       "        text-align: right;\n",
       "    }\n",
       "</style>\n",
       "<table border=\"1\" class=\"dataframe\">\n",
       "  <thead>\n",
       "    <tr style=\"text-align: right;\">\n",
       "      <th></th>\n",
       "      <th>use_of_ip</th>\n",
       "      <th>abnormal_url</th>\n",
       "      <th>count.</th>\n",
       "      <th>count-www</th>\n",
       "      <th>count@</th>\n",
       "      <th>count_dir</th>\n",
       "      <th>count_embed_domian</th>\n",
       "      <th>sus_words</th>\n",
       "      <th>short_url</th>\n",
       "      <th>count-https</th>\n",
       "      <th>count%</th>\n",
       "      <th>count-</th>\n",
       "      <th>count=</th>\n",
       "      <th>count-digits</th>\n",
       "      <th>count-letters</th>\n",
       "      <th>url_length</th>\n",
       "      <th>hostname_length</th>\n",
       "      <th>fd_length</th>\n",
       "      <th>tld_length</th>\n",
       "    </tr>\n",
       "  </thead>\n",
       "  <tbody>\n",
       "    <tr>\n",
       "      <th>0</th>\n",
       "      <td>0</td>\n",
       "      <td>1</td>\n",
       "      <td>2</td>\n",
       "      <td>1</td>\n",
       "      <td>0</td>\n",
       "      <td>0</td>\n",
       "      <td>0</td>\n",
       "      <td>0</td>\n",
       "      <td>0</td>\n",
       "      <td>1</td>\n",
       "      <td>0</td>\n",
       "      <td>0</td>\n",
       "      <td>0</td>\n",
       "      <td>0</td>\n",
       "      <td>17</td>\n",
       "      <td>22</td>\n",
       "      <td>14</td>\n",
       "      <td>0</td>\n",
       "      <td>3</td>\n",
       "    </tr>\n",
       "  </tbody>\n",
       "</table>\n",
       "</div>"
      ],
      "text/plain": [
       "   use_of_ip  abnormal_url  count.  count-www  count@  count_dir  \\\n",
       "0          0             1       2          1       0          0   \n",
       "\n",
       "   count_embed_domian  sus_words  short_url  count-https  count%  count-  \\\n",
       "0                   0          0          0            1       0       0   \n",
       "\n",
       "   count=  count-digits  count-letters  url_length  hostname_length  \\\n",
       "0       0             0             17          22               14   \n",
       "\n",
       "   fd_length  tld_length  \n",
       "0          0           3  "
      ]
     },
     "execution_count": 36,
     "metadata": {},
     "output_type": "execute_result"
    }
   ],
   "source": [
    "df"
   ]
  },
  {
   "cell_type": "code",
   "execution_count": 37,
   "id": "ac556fcb",
   "metadata": {},
   "outputs": [],
   "source": [
    "import joblib\n",
    "with open('rf.joblib', 'rb') as f:\n",
    "    loaded_rf = joblib.load(f)\n",
    "    \n",
    "results = loaded_rf.predict(df)"
   ]
  },
  {
   "cell_type": "code",
   "execution_count": 38,
   "id": "c089cb44",
   "metadata": {},
   "outputs": [
    {
     "data": {
      "text/plain": [
       "['phishing']"
      ]
     },
     "execution_count": 38,
     "metadata": {},
     "output_type": "execute_result"
    }
   ],
   "source": [
    "url_types = [int_to_type[i] for i in results]\n",
    "url_types"
   ]
  },
  {
   "cell_type": "code",
   "execution_count": null,
   "id": "55bb8cb3",
   "metadata": {},
   "outputs": [],
   "source": []
  }
 ],
 "metadata": {
  "kernelspec": {
   "display_name": "Python 3 (ipykernel)",
   "language": "python",
   "name": "python3"
  },
  "language_info": {
   "codemirror_mode": {
    "name": "ipython",
    "version": 3
   },
   "file_extension": ".py",
   "mimetype": "text/x-python",
   "name": "python",
   "nbconvert_exporter": "python",
   "pygments_lexer": "ipython3",
   "version": "3.11.4"
  }
 },
 "nbformat": 4,
 "nbformat_minor": 5
}
