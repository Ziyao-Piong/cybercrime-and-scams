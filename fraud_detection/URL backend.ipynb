{
 "cells": [
  {
   "cell_type": "code",
   "execution_count": 1,
   "id": "ae4da208",
   "metadata": {},
   "outputs": [],
   "source": [
    "import pandas as pd\n",
    "import numpy as np\n",
    "import matplotlib.pyplot as plt\n",
    "from sklearn.model_selection import train_test_split\n",
    "from sklearn.ensemble import RandomForestClassifier\n",
    "from sklearn.feature_extraction.text import TfidfVectorizer\n",
    "from sklearn.pipeline import Pipeline\n",
    "from sklearn.preprocessing import LabelEncoder\n",
    "import re\n",
    "from urllib.parse import urlparse\n",
    "from urllib.parse import urlparse\n",
    "from tld import get_tld"
   ]
  },
  {
   "cell_type": "code",
   "execution_count": 2,
   "id": "df61eb96",
   "metadata": {},
   "outputs": [],
   "source": [
    "# pip install tld"
   ]
  },
  {
   "cell_type": "code",
   "execution_count": 28,
   "id": "adf553a4",
   "metadata": {},
   "outputs": [],
   "source": [
    "feature_dict = {}\n",
    "\n",
    "input = ' https://www.google.com'\n",
    "label_mapping = {'benign': 0, 'defacement': 1, 'malware': 2, 'phishing': 3}\n",
    "\n",
    "feature_dict['use_of_ip'] = []\n",
    "feature_dict['abnormal_url'] = []\n",
    "feature_dict['count.'] = []\n",
    "feature_dict['count-www'] = []\n",
    "feature_dict['count@'] = []\n",
    "feature_dict['count_dir'] = []\n",
    "feature_dict['count_embed_domian'] = []\n",
    "feature_dict['sus_words'] = []\n",
    "feature_dict['short_url'] = []\n",
    "feature_dict['count-https'] = []\n",
    "feature_dict['count-http'] =  []\n",
    "feature_dict['count%'] =[]\n",
    "feature_dict['count-'] = []\n",
    "feature_dict['count='] = []\n",
    "feature_dict['count-digits'] = []\n",
    "feature_dict['count-letters'] = []\n",
    "feature_dict['url_length'] = []\n",
    "feature_dict['hostname_length'] = []\n",
    "feature_dict['fd_length'] = []\n",
    "\n",
    "feature_dict['tld_length'] = []\n"
   ]
  },
  {
   "cell_type": "code",
   "execution_count": 6,
   "id": "0c60a4ab",
   "metadata": {},
   "outputs": [],
   "source": [
    "input = 'https://www.my.com'"
   ]
  },
  {
   "cell_type": "code",
   "execution_count": 10,
   "id": "e9c71dbd",
   "metadata": {},
   "outputs": [],
   "source": [
    "input = 'https://www.my.com2'"
   ]
  },
  {
   "cell_type": "code",
   "execution_count": 29,
   "id": "69bc8180",
   "metadata": {},
   "outputs": [],
   "source": [
    "\n",
    "def having_ip_address(url):\n",
    "    match = re.search(\n",
    "        '(([01]?\\\\d\\\\d?|2[0-4]\\\\d|25[0-5])\\\\.([01]?\\\\d\\\\d?|2[0-4]\\\\d|25[0-5])\\\\.([01]?\\\\d\\\\d?|2[0-4]\\\\d|25[0-5])\\\\.'\n",
    "        '([01]?\\\\d\\\\d?|2[0-4]\\\\d|25[0-5])\\\\/)|'  # IPv4\n",
    "        '((0x[0-9a-fA-F]{1,2})\\\\.(0x[0-9a-fA-F]{1,2})\\\\.(0x[0-9a-fA-F]{1,2})\\\\.(0x[0-9a-fA-F]{1,2})\\\\/)' # IPv4 in hexadecimal\n",
    "        '(?:[a-fA-F0-9]{1,4}:){7}[a-fA-F0-9]{1,4}', url)  # Ipv6\n",
    "    return 1 if match else 0\n",
    "\n",
    "def abnormal_url(url):\n",
    "    hostname = urlparse(url).hostname\n",
    "    hostname = str(hostname)\n",
    "    match = re.search(hostname, url)\n",
    "    \n",
    "    return 1 if match else 0\n",
    "\n",
    "def no_of_dir(url):\n",
    "    urldir = urlparse(url).path\n",
    "    return urldir.count('/')\n",
    "\n",
    "def no_of_embed(url):\n",
    "    urldir = urlparse(url).path\n",
    "    return urldir.count('//')\n",
    "\n",
    "def suspicious_words(url):\n",
    "    match = re.search('PayPal|login|signin|bank|account|update|free|lucky|service|bonus|ebayisapi|webscr',\n",
    "                      url)\n",
    "    return 1 if match else 0\n",
    "\n",
    "def shortening_service(url):\n",
    "    match = re.search('bit\\.ly|goo\\.gl|shorte\\.st|go2l\\.ink|x\\.co|ow\\.ly|t\\.co|tinyurl|tr\\.im|is\\.gd|cli\\.gs|'\n",
    "                      'yfrog\\.com|migre\\.me|ff\\.im|tiny\\.cc|url4\\.eu|twit\\.ac|su\\.pr|twurl\\.nl|snipurl\\.com|'\n",
    "                      'short\\.to|BudURL\\.com|ping\\.fm|post\\.ly|Just\\.as|bkite\\.com|snipr\\.com|fic\\.kr|loopt\\.us|'\n",
    "                      'doiop\\.com|short\\.ie|kl\\.am|wp\\.me|rubyurl\\.com|om\\.ly|to\\.ly|bit\\.do|t\\.co|lnkd\\.in|'\n",
    "                      'db\\.tt|qr\\.ae|adf\\.ly|goo\\.gl|bitly\\.com|cur\\.lv|tinyurl\\.com|ow\\.ly|bit\\.ly|ity\\.im|'\n",
    "                      'q\\.gs|is\\.gd|po\\.st|bc\\.vc|twitthis\\.com|u\\.to|j\\.mp|buzurl\\.com|cutt\\.us|u\\.bb|yourls\\.org|'\n",
    "                      'x\\.co|prettylinkpro\\.com|scrnch\\.me|filoops\\.info|vzturl\\.com|qr\\.net|1url\\.com|tweez\\.me|v\\.gd|'\n",
    "                      'tr\\.im|link\\.zip\\.net',\n",
    "                      url)\n",
    "    return 1 if match else 0\n",
    "\n",
    "def count_digit(url):\n",
    "    return sum(c.isdigit() for c in url)\n",
    "\n",
    "def count_letter(url):\n",
    "    return sum(c.isalpha() for c in url)\n",
    "\n",
    "def fd_length(url):\n",
    "    urlpath= urlparse(url).path\n",
    "    try:\n",
    "        return len(urlpath.split('/')[1])\n",
    "    except:\n",
    "        return 0\n",
    "    \n",
    "def tld_length(tld):\n",
    "    try:\n",
    "        return len(tld)\n",
    "    except:\n",
    "        return -1\n",
    "    \n",
    "    \n",
    "feature_dict['use_of_ip'].append(having_ip_address(input)) \n",
    "feature_dict['abnormal_url'].append(abnormal_url(input)) \n",
    "feature_dict['count.'].append(input.count('.'))\n",
    "feature_dict['count-www'].append(input.count('www')) \n",
    "feature_dict['count@'].append(input.count('@')) \n",
    "feature_dict['count_dir'].append(no_of_dir(input)) \n",
    "feature_dict['count_embed_domian'].append(no_of_embed(input)) \n",
    "feature_dict['sus_words'].append(suspicious_words(input))\n",
    "feature_dict['short_url'].append(shortening_service(input))\n",
    "feature_dict['count-https'].append(input.count('https'))\n",
    "feature_dict['count-http'].append(input.count('http'))\n",
    "feature_dict['count%'].append(input.count('%'))\n",
    "feature_dict['count-'].append(input.count('-'))\n",
    "feature_dict['count='].append(input.count('='))\n",
    "feature_dict['count-digits'].append(count_digit(input))\n",
    "feature_dict['count-letters'].append(count_letter(input))\n",
    "feature_dict['url_length'].append(len(str(input)))\n",
    "feature_dict['hostname_length'].append(len(urlparse(input).netloc))\n",
    "feature_dict['fd_length'].append(fd_length(input))\n",
    "\n",
    "\n",
    "tld = get_tld(input, fail_silently=True)\n",
    "feature_dict['tld_length'].append(tld_length(tld))\n"
   ]
  },
  {
   "cell_type": "code",
   "execution_count": 30,
   "id": "54244eca",
   "metadata": {},
   "outputs": [],
   "source": [
    "df = pd.DataFrame(feature_dict)"
   ]
  },
  {
   "cell_type": "code",
   "execution_count": 31,
   "id": "aff145ea",
   "metadata": {},
   "outputs": [
    {
     "data": {
      "text/html": [
       "<div>\n",
       "<style scoped>\n",
       "    .dataframe tbody tr th:only-of-type {\n",
       "        vertical-align: middle;\n",
       "    }\n",
       "\n",
       "    .dataframe tbody tr th {\n",
       "        vertical-align: top;\n",
       "    }\n",
       "\n",
       "    .dataframe thead th {\n",
       "        text-align: right;\n",
       "    }\n",
       "</style>\n",
       "<table border=\"1\" class=\"dataframe\">\n",
       "  <thead>\n",
       "    <tr style=\"text-align: right;\">\n",
       "      <th></th>\n",
       "      <th>use_of_ip</th>\n",
       "      <th>abnormal_url</th>\n",
       "      <th>count.</th>\n",
       "      <th>count-www</th>\n",
       "      <th>count@</th>\n",
       "      <th>count_dir</th>\n",
       "      <th>count_embed_domian</th>\n",
       "      <th>sus_words</th>\n",
       "      <th>short_url</th>\n",
       "      <th>count-https</th>\n",
       "      <th>count-http</th>\n",
       "      <th>count%</th>\n",
       "      <th>count-</th>\n",
       "      <th>count=</th>\n",
       "      <th>count-digits</th>\n",
       "      <th>count-letters</th>\n",
       "      <th>url_length</th>\n",
       "      <th>hostname_length</th>\n",
       "      <th>fd_length</th>\n",
       "      <th>tld_length</th>\n",
       "    </tr>\n",
       "  </thead>\n",
       "  <tbody>\n",
       "    <tr>\n",
       "      <th>0</th>\n",
       "      <td>0</td>\n",
       "      <td>0</td>\n",
       "      <td>2</td>\n",
       "      <td>1</td>\n",
       "      <td>0</td>\n",
       "      <td>2</td>\n",
       "      <td>1</td>\n",
       "      <td>0</td>\n",
       "      <td>0</td>\n",
       "      <td>1</td>\n",
       "      <td>1</td>\n",
       "      <td>0</td>\n",
       "      <td>0</td>\n",
       "      <td>0</td>\n",
       "      <td>0</td>\n",
       "      <td>17</td>\n",
       "      <td>23</td>\n",
       "      <td>0</td>\n",
       "      <td>0</td>\n",
       "      <td>-1</td>\n",
       "    </tr>\n",
       "  </tbody>\n",
       "</table>\n",
       "</div>"
      ],
      "text/plain": [
       "   use_of_ip  abnormal_url  count.  count-www  count@  count_dir  \\\n",
       "0          0             0       2          1       0          2   \n",
       "\n",
       "   count_embed_domian  sus_words  short_url  count-https  count-http  count%  \\\n",
       "0                   1          0          0            1           1       0   \n",
       "\n",
       "   count-  count=  count-digits  count-letters  url_length  hostname_length  \\\n",
       "0       0       0             0             17          23                0   \n",
       "\n",
       "   fd_length  tld_length  \n",
       "0          0          -1  "
      ]
     },
     "execution_count": 31,
     "metadata": {},
     "output_type": "execute_result"
    }
   ],
   "source": [
    "df"
   ]
  },
  {
   "cell_type": "code",
   "execution_count": 32,
   "id": "ac556fcb",
   "metadata": {},
   "outputs": [
    {
     "ename": "FileNotFoundError",
     "evalue": "[Errno 2] No such file or directory: 'rf.joblib'",
     "output_type": "error",
     "traceback": [
      "\u001b[1;31m---------------------------------------------------------------------------\u001b[0m",
      "\u001b[1;31mFileNotFoundError\u001b[0m                         Traceback (most recent call last)",
      "Cell \u001b[1;32mIn[32], line 2\u001b[0m\n\u001b[0;32m      1\u001b[0m \u001b[38;5;28;01mimport\u001b[39;00m \u001b[38;5;21;01mjoblib\u001b[39;00m\n\u001b[1;32m----> 2\u001b[0m \u001b[38;5;28;01mwith\u001b[39;00m \u001b[38;5;28mopen\u001b[39m(\u001b[38;5;124m'\u001b[39m\u001b[38;5;124mrf.joblib\u001b[39m\u001b[38;5;124m'\u001b[39m, \u001b[38;5;124m'\u001b[39m\u001b[38;5;124mrb\u001b[39m\u001b[38;5;124m'\u001b[39m) \u001b[38;5;28;01mas\u001b[39;00m f:\n\u001b[0;32m      3\u001b[0m     loaded_rf \u001b[38;5;241m=\u001b[39m joblib\u001b[38;5;241m.\u001b[39mload(f)\n\u001b[0;32m      5\u001b[0m rf_y_pred \u001b[38;5;241m=\u001b[39m loaded_rf\u001b[38;5;241m.\u001b[39mpredict(df)\n",
      "File \u001b[1;32m~\\anaconda3\\Lib\\site-packages\\IPython\\core\\interactiveshell.py:284\u001b[0m, in \u001b[0;36m_modified_open\u001b[1;34m(file, *args, **kwargs)\u001b[0m\n\u001b[0;32m    277\u001b[0m \u001b[38;5;28;01mif\u001b[39;00m file \u001b[38;5;129;01min\u001b[39;00m {\u001b[38;5;241m0\u001b[39m, \u001b[38;5;241m1\u001b[39m, \u001b[38;5;241m2\u001b[39m}:\n\u001b[0;32m    278\u001b[0m     \u001b[38;5;28;01mraise\u001b[39;00m \u001b[38;5;167;01mValueError\u001b[39;00m(\n\u001b[0;32m    279\u001b[0m         \u001b[38;5;124mf\u001b[39m\u001b[38;5;124m\"\u001b[39m\u001b[38;5;124mIPython won\u001b[39m\u001b[38;5;124m'\u001b[39m\u001b[38;5;124mt let you open fd=\u001b[39m\u001b[38;5;132;01m{\u001b[39;00mfile\u001b[38;5;132;01m}\u001b[39;00m\u001b[38;5;124m by default \u001b[39m\u001b[38;5;124m\"\u001b[39m\n\u001b[0;32m    280\u001b[0m         \u001b[38;5;124m\"\u001b[39m\u001b[38;5;124mas it is likely to crash IPython. If you know what you are doing, \u001b[39m\u001b[38;5;124m\"\u001b[39m\n\u001b[0;32m    281\u001b[0m         \u001b[38;5;124m\"\u001b[39m\u001b[38;5;124myou can use builtins\u001b[39m\u001b[38;5;124m'\u001b[39m\u001b[38;5;124m open.\u001b[39m\u001b[38;5;124m\"\u001b[39m\n\u001b[0;32m    282\u001b[0m     )\n\u001b[1;32m--> 284\u001b[0m \u001b[38;5;28;01mreturn\u001b[39;00m io_open(file, \u001b[38;5;241m*\u001b[39margs, \u001b[38;5;241m*\u001b[39m\u001b[38;5;241m*\u001b[39mkwargs)\n",
      "\u001b[1;31mFileNotFoundError\u001b[0m: [Errno 2] No such file or directory: 'rf.joblib'"
     ]
    }
   ],
   "source": [
    "import joblib\n",
    "with open('rf.joblib', 'rb') as f:\n",
    "    loaded_rf = joblib.load(f)\n",
    "    \n",
    "rf_y_pred = loaded_rf.predict(df)\n",
    "print(type(rf_y_pred.tolist()[0]))"
   ]
  },
  {
   "cell_type": "code",
   "execution_count": 19,
   "id": "4d4956c9",
   "metadata": {},
   "outputs": [
    {
     "name": "stdout",
     "output_type": "stream",
     "text": [
      "<class 'int'>\n"
     ]
    }
   ],
   "source": [
    "print(type(rf_y_pred.tolist()[0]))\n"
   ]
  },
  {
   "cell_type": "code",
   "execution_count": 22,
   "id": "c089cb44",
   "metadata": {},
   "outputs": [],
   "source": [
    "label_mapping = ['safe', 'defacement', 'malware', 'phishing']\n",
    "result = rf_y_pred.tolist()\n",
    "url_types = [label_mapping[i] for i in result]"
   ]
  },
  {
   "cell_type": "code",
   "execution_count": 23,
   "id": "b7fbf7f7",
   "metadata": {},
   "outputs": [
    {
     "data": {
      "text/plain": [
       "['phishing', 'phishing', 'phishing']"
      ]
     },
     "execution_count": 23,
     "metadata": {},
     "output_type": "execute_result"
    }
   ],
   "source": [
    "url_types"
   ]
  },
  {
   "cell_type": "code",
   "execution_count": 27,
   "id": "c0b37a82",
   "metadata": {},
   "outputs": [
    {
     "data": {
      "text/plain": [
       "['A', 'BC']"
      ]
     },
     "execution_count": 27,
     "metadata": {},
     "output_type": "execute_result"
    }
   ],
   "source": [
    "test_string = 'A|BC'\n",
    "test_string.split('|')"
   ]
  },
  {
   "cell_type": "code",
   "execution_count": null,
   "id": "3463bb2a",
   "metadata": {},
   "outputs": [],
   "source": []
  }
 ],
 "metadata": {
  "kernelspec": {
   "display_name": "Python 3 (ipykernel)",
   "language": "python",
   "name": "python3"
  },
  "language_info": {
   "codemirror_mode": {
    "name": "ipython",
    "version": 3
   },
   "file_extension": ".py",
   "mimetype": "text/x-python",
   "name": "python",
   "nbconvert_exporter": "python",
   "pygments_lexer": "ipython3",
   "version": "3.11.3"
  }
 },
 "nbformat": 4,
 "nbformat_minor": 5
}
