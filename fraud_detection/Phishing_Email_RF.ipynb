{
 "cells": [
  {
   "cell_type": "markdown",
   "id": "24b1f4ff",
   "metadata": {},
   "source": [
    "# Phishing email detection using Random Forest"
   ]
  },
  {
   "cell_type": "code",
   "execution_count": 44,
   "id": "9f764e2d",
   "metadata": {},
   "outputs": [],
   "source": [
    "import pandas as pd\n",
    "import numpy as np\n",
    "import matplotlib.pyplot as plt"
   ]
  },
  {
   "cell_type": "code",
   "execution_count": 3,
   "id": "071fac14",
   "metadata": {},
   "outputs": [],
   "source": [
    "df = pd.read_csv('../RawData/PhishingEmailDetection/Phishing_Email.csv')"
   ]
  },
  {
   "cell_type": "code",
   "execution_count": 11,
   "id": "890ef25f",
   "metadata": {},
   "outputs": [
    {
     "data": {
      "text/html": [
       "<div>\n",
       "<style scoped>\n",
       "    .dataframe tbody tr th:only-of-type {\n",
       "        vertical-align: middle;\n",
       "    }\n",
       "\n",
       "    .dataframe tbody tr th {\n",
       "        vertical-align: top;\n",
       "    }\n",
       "\n",
       "    .dataframe thead th {\n",
       "        text-align: right;\n",
       "    }\n",
       "</style>\n",
       "<table border=\"1\" class=\"dataframe\">\n",
       "  <thead>\n",
       "    <tr style=\"text-align: right;\">\n",
       "      <th></th>\n",
       "      <th>Unnamed: 0</th>\n",
       "      <th>Email Text</th>\n",
       "      <th>Email Type</th>\n",
       "    </tr>\n",
       "  </thead>\n",
       "  <tbody>\n",
       "    <tr>\n",
       "      <th>0</th>\n",
       "      <td>0</td>\n",
       "      <td>re : 6 . 1100 , disc : uniformitarianism , re ...</td>\n",
       "      <td>Safe Email</td>\n",
       "    </tr>\n",
       "    <tr>\n",
       "      <th>1</th>\n",
       "      <td>1</td>\n",
       "      <td>the other side of * galicismos * * galicismo *...</td>\n",
       "      <td>Safe Email</td>\n",
       "    </tr>\n",
       "    <tr>\n",
       "      <th>2</th>\n",
       "      <td>2</td>\n",
       "      <td>re : equistar deal tickets are you still avail...</td>\n",
       "      <td>Safe Email</td>\n",
       "    </tr>\n",
       "    <tr>\n",
       "      <th>3</th>\n",
       "      <td>3</td>\n",
       "      <td>\\nHello I am your hot lil horny toy.\\n    I am...</td>\n",
       "      <td>Phishing Email</td>\n",
       "    </tr>\n",
       "    <tr>\n",
       "      <th>4</th>\n",
       "      <td>4</td>\n",
       "      <td>software at incredibly low prices ( 86 % lower...</td>\n",
       "      <td>Phishing Email</td>\n",
       "    </tr>\n",
       "  </tbody>\n",
       "</table>\n",
       "</div>"
      ],
      "text/plain": [
       "   Unnamed: 0                                         Email Text  \\\n",
       "0           0  re : 6 . 1100 , disc : uniformitarianism , re ...   \n",
       "1           1  the other side of * galicismos * * galicismo *...   \n",
       "2           2  re : equistar deal tickets are you still avail...   \n",
       "3           3  \\nHello I am your hot lil horny toy.\\n    I am...   \n",
       "4           4  software at incredibly low prices ( 86 % lower...   \n",
       "\n",
       "       Email Type  \n",
       "0      Safe Email  \n",
       "1      Safe Email  \n",
       "2      Safe Email  \n",
       "3  Phishing Email  \n",
       "4  Phishing Email  "
      ]
     },
     "execution_count": 11,
     "metadata": {},
     "output_type": "execute_result"
    }
   ],
   "source": [
    "df.head()"
   ]
  },
  {
   "cell_type": "code",
   "execution_count": 13,
   "id": "8e0ef71e",
   "metadata": {},
   "outputs": [
    {
     "data": {
      "text/plain": [
       "(18650, 3)"
      ]
     },
     "execution_count": 13,
     "metadata": {},
     "output_type": "execute_result"
    }
   ],
   "source": [
    "df.shape"
   ]
  },
  {
   "cell_type": "markdown",
   "id": "ab467216",
   "metadata": {},
   "source": [
    "Check if there's any NA values in the data, drop the row if there's any"
   ]
  },
  {
   "cell_type": "code",
   "execution_count": 12,
   "id": "89fb54e8",
   "metadata": {},
   "outputs": [
    {
     "data": {
      "text/plain": [
       "Unnamed: 0     0\n",
       "Email Text    16\n",
       "Email Type     0\n",
       "dtype: int64"
      ]
     },
     "execution_count": 12,
     "metadata": {},
     "output_type": "execute_result"
    }
   ],
   "source": [
    "df.isna().sum()"
   ]
  },
  {
   "cell_type": "code",
   "execution_count": 15,
   "id": "c49a8c2e",
   "metadata": {},
   "outputs": [
    {
     "data": {
      "text/plain": [
       "Unnamed: 0    0\n",
       "Email Text    0\n",
       "Email Type    0\n",
       "dtype: int64"
      ]
     },
     "execution_count": 15,
     "metadata": {},
     "output_type": "execute_result"
    }
   ],
   "source": [
    "df = df.dropna()\n",
    "df.isna().sum()"
   ]
  },
  {
   "cell_type": "code",
   "execution_count": 16,
   "id": "f26a6a0a",
   "metadata": {},
   "outputs": [
    {
     "data": {
      "text/plain": [
       "Safe Email        11322\n",
       "Phishing Email     7312\n",
       "Name: Email Type, dtype: int64"
      ]
     },
     "execution_count": 16,
     "metadata": {},
     "output_type": "execute_result"
    }
   ],
   "source": [
    "df['Email Type'].value_counts()"
   ]
  },
  {
   "cell_type": "markdown",
   "id": "bdbd8a3c",
   "metadata": {},
   "source": [
    "There's an imbalance between safe email and phishing email. Safe email will be downsampled in order to have an equal representation of both classes."
   ]
  },
  {
   "cell_type": "code",
   "execution_count": 18,
   "id": "214dbe6c",
   "metadata": {},
   "outputs": [
    {
     "name": "stdout",
     "output_type": "stream",
     "text": [
      "(11322, 3) (7312, 3)\n"
     ]
    }
   ],
   "source": [
    "safe_email = df[df['Email Type'] == 'Safe Email']\n",
    "phishing_email = df[df['Email Type'] == 'Phishing Email']\n",
    "print(safe_email.shape, phishing_email.shape)"
   ]
  },
  {
   "cell_type": "code",
   "execution_count": 19,
   "id": "cb44f4f6",
   "metadata": {},
   "outputs": [
    {
     "name": "stdout",
     "output_type": "stream",
     "text": [
      "(7312, 3) (7312, 3)\n"
     ]
    }
   ],
   "source": [
    "safe_email = safe_email.sample(phishing_email.shape[0])\n",
    "print(safe_email.shape, phishing_email.shape)"
   ]
  },
  {
   "cell_type": "code",
   "execution_count": 21,
   "id": "6615e55d",
   "metadata": {},
   "outputs": [
    {
     "data": {
      "text/html": [
       "<div>\n",
       "<style scoped>\n",
       "    .dataframe tbody tr th:only-of-type {\n",
       "        vertical-align: middle;\n",
       "    }\n",
       "\n",
       "    .dataframe tbody tr th {\n",
       "        vertical-align: top;\n",
       "    }\n",
       "\n",
       "    .dataframe thead th {\n",
       "        text-align: right;\n",
       "    }\n",
       "</style>\n",
       "<table border=\"1\" class=\"dataframe\">\n",
       "  <thead>\n",
       "    <tr style=\"text-align: right;\">\n",
       "      <th></th>\n",
       "      <th>Unnamed: 0</th>\n",
       "      <th>Email Text</th>\n",
       "      <th>Email Type</th>\n",
       "    </tr>\n",
       "  </thead>\n",
       "  <tbody>\n",
       "    <tr>\n",
       "      <th>0</th>\n",
       "      <td>10569</td>\n",
       "      <td>-----BEGIN PGP SIGNED MESSAGE-----\\nHash: SHA1...</td>\n",
       "      <td>Safe Email</td>\n",
       "    </tr>\n",
       "    <tr>\n",
       "      <th>1</th>\n",
       "      <td>2178</td>\n",
       "      <td>research ' s summer outlook the research weath...</td>\n",
       "      <td>Safe Email</td>\n",
       "    </tr>\n",
       "    <tr>\n",
       "      <th>2</th>\n",
       "      <td>7122</td>\n",
       "      <td>Well, from the looks of things, I can import a...</td>\n",
       "      <td>Safe Email</td>\n",
       "    </tr>\n",
       "    <tr>\n",
       "      <th>3</th>\n",
       "      <td>17945</td>\n",
       "      <td>Once upon a time, Hesty wrote :&gt; &gt; Where you c...</td>\n",
       "      <td>Safe Email</td>\n",
       "    </tr>\n",
       "    <tr>\n",
       "      <th>4</th>\n",
       "      <td>17463</td>\n",
       "      <td>books and articles on cd-rom this text is also...</td>\n",
       "      <td>Safe Email</td>\n",
       "    </tr>\n",
       "  </tbody>\n",
       "</table>\n",
       "</div>"
      ],
      "text/plain": [
       "   Unnamed: 0                                         Email Text  Email Type\n",
       "0       10569  -----BEGIN PGP SIGNED MESSAGE-----\\nHash: SHA1...  Safe Email\n",
       "1        2178  research ' s summer outlook the research weath...  Safe Email\n",
       "2        7122  Well, from the looks of things, I can import a...  Safe Email\n",
       "3       17945  Once upon a time, Hesty wrote :> > Where you c...  Safe Email\n",
       "4       17463  books and articles on cd-rom this text is also...  Safe Email"
      ]
     },
     "execution_count": 21,
     "metadata": {},
     "output_type": "execute_result"
    }
   ],
   "source": [
    "balanced_df = pd.concat([safe_email, phishing_email], ignore_index=True)\n",
    "balanced_df.head()"
   ]
  },
  {
   "cell_type": "code",
   "execution_count": 24,
   "id": "94c349f8",
   "metadata": {},
   "outputs": [],
   "source": [
    "X = df['Email Text'].values\n",
    "y = df['Email Type'].values"
   ]
  },
  {
   "cell_type": "markdown",
   "id": "7ede8439",
   "metadata": {},
   "source": [
    "### Model training"
   ]
  },
  {
   "cell_type": "code",
   "execution_count": 22,
   "id": "850ae3f5",
   "metadata": {},
   "outputs": [],
   "source": [
    "from sklearn.model_selection import train_test_split\n",
    "from sklearn.ensemble import RandomForestClassifier\n",
    "from sklearn.feature_extraction.text import TfidfVectorizer, ENGLISH_STOP_WORDS\n",
    "from sklearn.pipeline import Pipeline"
   ]
  },
  {
   "cell_type": "code",
   "execution_count": 25,
   "id": "0eb66291",
   "metadata": {},
   "outputs": [],
   "source": [
    "X_train, X_test, y_train, y_test = train_test_split(X, y, test_size=0.2, random_state=0)"
   ]
  },
  {
   "cell_type": "code",
   "execution_count": 32,
   "id": "f19f3a8a",
   "metadata": {},
   "outputs": [
    {
     "data": {
      "text/plain": [
       "'Phishing Email'"
      ]
     },
     "execution_count": 32,
     "metadata": {},
     "output_type": "execute_result"
    }
   ],
   "source": [
    "y_train[2]"
   ]
  },
  {
   "cell_type": "markdown",
   "id": "425f2c86",
   "metadata": {},
   "source": [
    "Use tfidf to extract features from the email body text, and also eliminate all english stop words."
   ]
  },
  {
   "cell_type": "code",
   "execution_count": 33,
   "id": "f70fd879",
   "metadata": {},
   "outputs": [],
   "source": [
    "classifier = Pipeline([(\"tfidf\",TfidfVectorizer(stop_words=list(ENGLISH_STOP_WORDS)) ),\n",
    "                       (\"classifier\",RandomForestClassifier(n_estimators=10))])"
   ]
  },
  {
   "cell_type": "code",
   "execution_count": 34,
   "id": "3a01d147",
   "metadata": {},
   "outputs": [
    {
     "data": {
      "text/html": [
       "<style>#sk-container-id-1 {color: black;}#sk-container-id-1 pre{padding: 0;}#sk-container-id-1 div.sk-toggleable {background-color: white;}#sk-container-id-1 label.sk-toggleable__label {cursor: pointer;display: block;width: 100%;margin-bottom: 0;padding: 0.3em;box-sizing: border-box;text-align: center;}#sk-container-id-1 label.sk-toggleable__label-arrow:before {content: \"▸\";float: left;margin-right: 0.25em;color: #696969;}#sk-container-id-1 label.sk-toggleable__label-arrow:hover:before {color: black;}#sk-container-id-1 div.sk-estimator:hover label.sk-toggleable__label-arrow:before {color: black;}#sk-container-id-1 div.sk-toggleable__content {max-height: 0;max-width: 0;overflow: hidden;text-align: left;background-color: #f0f8ff;}#sk-container-id-1 div.sk-toggleable__content pre {margin: 0.2em;color: black;border-radius: 0.25em;background-color: #f0f8ff;}#sk-container-id-1 input.sk-toggleable__control:checked~div.sk-toggleable__content {max-height: 200px;max-width: 100%;overflow: auto;}#sk-container-id-1 input.sk-toggleable__control:checked~label.sk-toggleable__label-arrow:before {content: \"▾\";}#sk-container-id-1 div.sk-estimator input.sk-toggleable__control:checked~label.sk-toggleable__label {background-color: #d4ebff;}#sk-container-id-1 div.sk-label input.sk-toggleable__control:checked~label.sk-toggleable__label {background-color: #d4ebff;}#sk-container-id-1 input.sk-hidden--visually {border: 0;clip: rect(1px 1px 1px 1px);clip: rect(1px, 1px, 1px, 1px);height: 1px;margin: -1px;overflow: hidden;padding: 0;position: absolute;width: 1px;}#sk-container-id-1 div.sk-estimator {font-family: monospace;background-color: #f0f8ff;border: 1px dotted black;border-radius: 0.25em;box-sizing: border-box;margin-bottom: 0.5em;}#sk-container-id-1 div.sk-estimator:hover {background-color: #d4ebff;}#sk-container-id-1 div.sk-parallel-item::after {content: \"\";width: 100%;border-bottom: 1px solid gray;flex-grow: 1;}#sk-container-id-1 div.sk-label:hover label.sk-toggleable__label {background-color: #d4ebff;}#sk-container-id-1 div.sk-serial::before {content: \"\";position: absolute;border-left: 1px solid gray;box-sizing: border-box;top: 0;bottom: 0;left: 50%;z-index: 0;}#sk-container-id-1 div.sk-serial {display: flex;flex-direction: column;align-items: center;background-color: white;padding-right: 0.2em;padding-left: 0.2em;position: relative;}#sk-container-id-1 div.sk-item {position: relative;z-index: 1;}#sk-container-id-1 div.sk-parallel {display: flex;align-items: stretch;justify-content: center;background-color: white;position: relative;}#sk-container-id-1 div.sk-item::before, #sk-container-id-1 div.sk-parallel-item::before {content: \"\";position: absolute;border-left: 1px solid gray;box-sizing: border-box;top: 0;bottom: 0;left: 50%;z-index: -1;}#sk-container-id-1 div.sk-parallel-item {display: flex;flex-direction: column;z-index: 1;position: relative;background-color: white;}#sk-container-id-1 div.sk-parallel-item:first-child::after {align-self: flex-end;width: 50%;}#sk-container-id-1 div.sk-parallel-item:last-child::after {align-self: flex-start;width: 50%;}#sk-container-id-1 div.sk-parallel-item:only-child::after {width: 0;}#sk-container-id-1 div.sk-dashed-wrapped {border: 1px dashed gray;margin: 0 0.4em 0.5em 0.4em;box-sizing: border-box;padding-bottom: 0.4em;background-color: white;}#sk-container-id-1 div.sk-label label {font-family: monospace;font-weight: bold;display: inline-block;line-height: 1.2em;}#sk-container-id-1 div.sk-label-container {text-align: center;}#sk-container-id-1 div.sk-container {/* jupyter's `normalize.less` sets `[hidden] { display: none; }` but bootstrap.min.css set `[hidden] { display: none !important; }` so we also need the `!important` here to be able to override the default hidden behavior on the sphinx rendered scikit-learn.org. See: https://github.com/scikit-learn/scikit-learn/issues/21755 */display: inline-block !important;position: relative;}#sk-container-id-1 div.sk-text-repr-fallback {display: none;}</style><div id=\"sk-container-id-1\" class=\"sk-top-container\"><div class=\"sk-text-repr-fallback\"><pre>Pipeline(steps=[(&#x27;tfidf&#x27;,\n",
       "                 TfidfVectorizer(stop_words=[&#x27;along&#x27;, &#x27;becoming&#x27;, &#x27;seemed&#x27;,\n",
       "                                             &#x27;or&#x27;, &#x27;be&#x27;, &#x27;him&#x27;, &#x27;may&#x27;,\n",
       "                                             &#x27;himself&#x27;, &#x27;anyhow&#x27;, &#x27;because&#x27;,\n",
       "                                             &#x27;ours&#x27;, &#x27;hundred&#x27;, &#x27;why&#x27;, &#x27;herein&#x27;,\n",
       "                                             &#x27;an&#x27;, &#x27;un&#x27;, &#x27;thereby&#x27;, &#x27;her&#x27;,\n",
       "                                             &#x27;toward&#x27;, &#x27;moreover&#x27;, &#x27;and&#x27;,\n",
       "                                             &#x27;mine&#x27;, &#x27;beside&#x27;, &#x27;co&#x27;, &#x27;never&#x27;,\n",
       "                                             &#x27;out&#x27;, &#x27;six&#x27;, &#x27;somehow&#x27;, &#x27;also&#x27;,\n",
       "                                             &#x27;who&#x27;, ...])),\n",
       "                (&#x27;classifier&#x27;, RandomForestClassifier(n_estimators=10))])</pre><b>In a Jupyter environment, please rerun this cell to show the HTML representation or trust the notebook. <br />On GitHub, the HTML representation is unable to render, please try loading this page with nbviewer.org.</b></div><div class=\"sk-container\" hidden><div class=\"sk-item sk-dashed-wrapped\"><div class=\"sk-label-container\"><div class=\"sk-label sk-toggleable\"><input class=\"sk-toggleable__control sk-hidden--visually\" id=\"sk-estimator-id-1\" type=\"checkbox\" ><label for=\"sk-estimator-id-1\" class=\"sk-toggleable__label sk-toggleable__label-arrow\">Pipeline</label><div class=\"sk-toggleable__content\"><pre>Pipeline(steps=[(&#x27;tfidf&#x27;,\n",
       "                 TfidfVectorizer(stop_words=[&#x27;along&#x27;, &#x27;becoming&#x27;, &#x27;seemed&#x27;,\n",
       "                                             &#x27;or&#x27;, &#x27;be&#x27;, &#x27;him&#x27;, &#x27;may&#x27;,\n",
       "                                             &#x27;himself&#x27;, &#x27;anyhow&#x27;, &#x27;because&#x27;,\n",
       "                                             &#x27;ours&#x27;, &#x27;hundred&#x27;, &#x27;why&#x27;, &#x27;herein&#x27;,\n",
       "                                             &#x27;an&#x27;, &#x27;un&#x27;, &#x27;thereby&#x27;, &#x27;her&#x27;,\n",
       "                                             &#x27;toward&#x27;, &#x27;moreover&#x27;, &#x27;and&#x27;,\n",
       "                                             &#x27;mine&#x27;, &#x27;beside&#x27;, &#x27;co&#x27;, &#x27;never&#x27;,\n",
       "                                             &#x27;out&#x27;, &#x27;six&#x27;, &#x27;somehow&#x27;, &#x27;also&#x27;,\n",
       "                                             &#x27;who&#x27;, ...])),\n",
       "                (&#x27;classifier&#x27;, RandomForestClassifier(n_estimators=10))])</pre></div></div></div><div class=\"sk-serial\"><div class=\"sk-item\"><div class=\"sk-estimator sk-toggleable\"><input class=\"sk-toggleable__control sk-hidden--visually\" id=\"sk-estimator-id-2\" type=\"checkbox\" ><label for=\"sk-estimator-id-2\" class=\"sk-toggleable__label sk-toggleable__label-arrow\">TfidfVectorizer</label><div class=\"sk-toggleable__content\"><pre>TfidfVectorizer(stop_words=[&#x27;along&#x27;, &#x27;becoming&#x27;, &#x27;seemed&#x27;, &#x27;or&#x27;, &#x27;be&#x27;, &#x27;him&#x27;,\n",
       "                            &#x27;may&#x27;, &#x27;himself&#x27;, &#x27;anyhow&#x27;, &#x27;because&#x27;, &#x27;ours&#x27;,\n",
       "                            &#x27;hundred&#x27;, &#x27;why&#x27;, &#x27;herein&#x27;, &#x27;an&#x27;, &#x27;un&#x27;, &#x27;thereby&#x27;,\n",
       "                            &#x27;her&#x27;, &#x27;toward&#x27;, &#x27;moreover&#x27;, &#x27;and&#x27;, &#x27;mine&#x27;,\n",
       "                            &#x27;beside&#x27;, &#x27;co&#x27;, &#x27;never&#x27;, &#x27;out&#x27;, &#x27;six&#x27;, &#x27;somehow&#x27;,\n",
       "                            &#x27;also&#x27;, &#x27;who&#x27;, ...])</pre></div></div></div><div class=\"sk-item\"><div class=\"sk-estimator sk-toggleable\"><input class=\"sk-toggleable__control sk-hidden--visually\" id=\"sk-estimator-id-3\" type=\"checkbox\" ><label for=\"sk-estimator-id-3\" class=\"sk-toggleable__label sk-toggleable__label-arrow\">RandomForestClassifier</label><div class=\"sk-toggleable__content\"><pre>RandomForestClassifier(n_estimators=10)</pre></div></div></div></div></div></div></div>"
      ],
      "text/plain": [
       "Pipeline(steps=[('tfidf',\n",
       "                 TfidfVectorizer(stop_words=['along', 'becoming', 'seemed',\n",
       "                                             'or', 'be', 'him', 'may',\n",
       "                                             'himself', 'anyhow', 'because',\n",
       "                                             'ours', 'hundred', 'why', 'herein',\n",
       "                                             'an', 'un', 'thereby', 'her',\n",
       "                                             'toward', 'moreover', 'and',\n",
       "                                             'mine', 'beside', 'co', 'never',\n",
       "                                             'out', 'six', 'somehow', 'also',\n",
       "                                             'who', ...])),\n",
       "                ('classifier', RandomForestClassifier(n_estimators=10))])"
      ]
     },
     "execution_count": 34,
     "metadata": {},
     "output_type": "execute_result"
    }
   ],
   "source": [
    "classifier.fit(X_train, y_train)"
   ]
  },
  {
   "cell_type": "markdown",
   "id": "60920e20",
   "metadata": {},
   "source": [
    "### Model evaluation"
   ]
  },
  {
   "cell_type": "code",
   "execution_count": 35,
   "id": "63b8d008",
   "metadata": {},
   "outputs": [],
   "source": [
    "y_pred = classifier.predict(X_test)"
   ]
  },
  {
   "cell_type": "code",
   "execution_count": 52,
   "id": "d4e49d8e",
   "metadata": {},
   "outputs": [],
   "source": [
    "from sklearn.metrics import classification_report, accuracy_score, confusion_matrix, ConfusionMatrixDisplay"
   ]
  },
  {
   "cell_type": "code",
   "execution_count": 53,
   "id": "ba0af062",
   "metadata": {},
   "outputs": [
    {
     "name": "stdout",
     "output_type": "stream",
     "text": [
      "accuracy from native bayes: 95.09 %\n",
      "classification report :\n",
      "\n",
      "                 precision    recall  f1-score   support\n",
      "\n",
      "Phishing Email       0.92      0.96      0.94      1457\n",
      "    Safe Email       0.97      0.95      0.96      2270\n",
      "\n",
      "      accuracy                           0.95      3727\n",
      "     macro avg       0.95      0.95      0.95      3727\n",
      "  weighted avg       0.95      0.95      0.95      3727\n",
      "\n"
     ]
    }
   ],
   "source": [
    "print(f\"accuracy from native bayes: {accuracy_score(y_test,y_pred)*100:.2f} %\")\n",
    "print(\"classification report :\\n\\n\",classification_report(y_test,y_pred))"
   ]
  },
  {
   "cell_type": "code",
   "execution_count": 54,
   "id": "774c1106",
   "metadata": {},
   "outputs": [
    {
     "data": {
      "image/png": "[encoded data removed]",
      "text/plain": [
       "<Figure size 640x480 with 2 Axes>"
      ]
     },
     "metadata": {},
     "output_type": "display_data"
    }
   ],
   "source": [
    "cm = confusion_matrix(y_test, y_pred)\n",
    "cx_ = ConfusionMatrixDisplay(cm,display_labels=['pishing_mail','safe_mail']).plot()\n",
    "plt.show()"
   ]
  },
  {
   "cell_type": "code",
   "execution_count": null,
   "id": "07eea4df",
   "metadata": {},
   "outputs": [],
   "source": []
  }
 ],
 "metadata": {
  "kernelspec": {
   "display_name": "Python 3 (ipykernel)",
   "language": "python",
   "name": "python3"
  },
  "language_info": {
   "codemirror_mode": {
    "name": "ipython",
    "version": 3
   },
   "file_extension": ".py",
   "mimetype": "text/x-python",
   "name": "python",
   "nbconvert_exporter": "python",
   "pygments_lexer": "ipython3",
   "version": "3.11.4"
  }
 },
 "nbformat": 4,
 "nbformat_minor": 5
}
